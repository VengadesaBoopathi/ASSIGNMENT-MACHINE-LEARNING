{
 "cells": [
  {
   "cell_type": "code",
   "execution_count": 9,
   "id": "b128f2ba-3f53-42a5-8b45-7cac22ae774f",
   "metadata": {},
   "outputs": [
    {
     "name": "stdout",
     "output_type": "stream",
     "text": [
      "Requirement already satisfied: sqlalchemy in c:\\users\\vengi\\appdata\\local\\programs\\python\\python312\\lib\\site-packages (2.0.36)Note: you may need to restart the kernel to use updated packages.\n",
      "\n",
      "Requirement already satisfied: typing-extensions>=4.6.0 in c:\\users\\vengi\\appdata\\local\\programs\\python\\python312\\lib\\site-packages (from sqlalchemy) (4.10.0)\n",
      "Requirement already satisfied: greenlet!=0.4.17 in c:\\users\\vengi\\appdata\\local\\programs\\python\\python312\\lib\\site-packages (from sqlalchemy) (3.1.1)\n"
     ]
    },
    {
     "name": "stderr",
     "output_type": "stream",
     "text": [
      "\n",
      "[notice] A new release of pip is available: 24.0 -> 24.3.1\n",
      "[notice] To update, run: C:\\Users\\vengi\\AppData\\Local\\Programs\\Python\\Python312\\python.exe -m pip install --upgrade pip\n"
     ]
    }
   ],
   "source": [
    "pip install sqlalchemy"
   ]
  },
  {
   "cell_type": "code",
   "execution_count": 10,
   "id": "85d316bc-9b28-402e-9889-cd84281fb8c3",
   "metadata": {},
   "outputs": [],
   "source": [
    "import psycopg2\n",
    "import pandas as pd\n",
    "import numpy as np\n",
    "import matplotlib.pyplot as plt\n",
    "import seaborn as sns\n",
    "from sqlalchemy import create_engine"
   ]
  },
  {
   "cell_type": "code",
   "execution_count": 11,
   "id": "05b7b789-b562-40d0-b740-d4b55e76975f",
   "metadata": {},
   "outputs": [],
   "source": [
    "host = \"branchhomeworkdb.cv8nj4hg6yra.ap-south-1.rds.amazonaws.com\" \n",
    "port = \"5432\"              \n",
    "database = \"branchdsprojectgps\" \n",
    "user = \"datascientist\" \n",
    "password = \"47eyYBLT0laW5j9U24Uuy8gLcrN\""
   ]
  },
  {
   "cell_type": "code",
   "execution_count": 12,
   "id": "32ef791e-fc9f-48ee-bcc4-ede20a9e3f24",
   "metadata": {},
   "outputs": [],
   "source": [
    "connection_string = f\"postgresql://{user}:{password}@{host}:{port}/{database}\""
   ]
  },
  {
   "cell_type": "markdown",
   "id": "5a61dd12-ed5e-44fe-ac9b-694eefbf6bc9",
   "metadata": {},
   "source": [
    "#DATA EXPLORATION AND PREPROCESSING OF DATA"
   ]
  },
  {
   "cell_type": "code",
   "execution_count": 13,
   "id": "533bf365-128f-4195-8662-0aeb16952a4a",
   "metadata": {},
   "outputs": [
    {
     "name": "stdout",
     "output_type": "stream",
     "text": [
      "        table_name\n",
      "0  user_attributes\n",
      "1        gps_fixes\n",
      "2    loan_outcomes\n"
     ]
    }
   ],
   "source": [
    "query = \"\"\"\n",
    "SELECT table_name\n",
    "FROM information_schema.tables\n",
    "WHERE table_schema = 'public';\n",
    "\"\"\"\n",
    "tables_df = pd.read_sql_query(query, connection_string)\n",
    "print(tables_df)"
   ]
  },
  {
   "cell_type": "code",
   "execution_count": 14,
   "id": "a7bb83bc-2b31-4852-8755-b7cc76af6322",
   "metadata": {},
   "outputs": [
    {
     "name": "stdout",
     "output_type": "stream",
     "text": [
      "   user_id             application_at loan_outcome\n",
      "0        1 2017-08-14 09:08:50.000000    defaulted\n",
      "1        2 2016-05-17 10:10:12.447976       repaid\n",
      "2        3 2016-10-20 10:07:20.459081    defaulted\n",
      "3        4 2017-01-13 13:03:34.000000    defaulted\n",
      "4        5 2016-11-03 15:41:39.124610       repaid\n",
      "          user_id                 application_at\n",
      "count  400.000000                            400\n",
      "mean   200.500000  2017-08-02 04:03:22.879437312\n",
      "min      1.000000            2015-06-29 15:30:55\n",
      "25%    100.750000  2016-12-28 01:25:21.750000128\n",
      "50%    200.500000            2017-08-12 12:03:18\n",
      "75%    300.250000            2018-03-13 16:22:13\n",
      "max    400.000000            2018-12-19 11:42:23\n",
      "std    115.614301                            NaN\n",
      "user_id           0\n",
      "application_at    0\n",
      "loan_outcome      0\n",
      "dtype: int64\n"
     ]
    }
   ],
   "source": [
    "query=\"\"\"select * from loan_outcomes\"\"\"\n",
    "loan_outcomes = pd.read_sql_query(query, connection_string)\n",
    "print(loan_outcomes.head())\n",
    "print(loan_outcomes.describe())\n",
    "print(loan_outcomes.isnull().sum())"
   ]
  },
  {
   "cell_type": "code",
   "execution_count": 15,
   "id": "cb2c7312-067f-43c4-b293-82c02d14d81c",
   "metadata": {},
   "outputs": [
    {
     "name": "stdout",
     "output_type": "stream",
     "text": [
      "           gps_fix_at    server_upload_at  longitude  latitude  accuracy  \\\n",
      "0 2017-06-22 09:37:20 2017-06-22 09:43:42  36.840540 -1.294342      68.4   \n",
      "1 2017-08-14 07:50:27 2017-08-14 09:05:27  36.895270 -1.341928    1409.0   \n",
      "2 2017-06-13 10:34:29 2017-06-13 10:54:48  36.811903 -1.307220      68.4   \n",
      "3 2017-06-18 12:16:20 2017-06-18 12:16:24  36.907049 -1.309984    1581.0   \n",
      "4 2017-06-28 09:39:08 2017-06-28 09:58:12  36.839396 -1.280310    1396.0   \n",
      "\n",
      "   altitude  bearing location_provider  user_id  \n",
      "0       0.0      0.0             fused        1  \n",
      "1       0.0      0.0             fused        1  \n",
      "2       0.0      0.0             fused        1  \n",
      "3       0.0      0.0             fused        1  \n",
      "4       0.0      0.0             fused        1  \n",
      "                          gps_fix_at               server_upload_at  \\\n",
      "count                          26710                          26710   \n",
      "mean   2017-08-24 03:33:41.442718208  2017-08-26 18:55:34.808573696   \n",
      "min              1970-01-05 08:19:04            2016-04-13 06:12:42   \n",
      "25%       2016-12-07 10:18:43.500000  2016-12-07 07:35:18.249999872   \n",
      "50%       2017-07-27 19:24:34.500000            2017-07-27 16:05:47   \n",
      "75%              2018-06-08 11:22:51     2018-06-08 06:30:55.500000   \n",
      "max              2050-02-24 16:27:12            2019-01-11 10:42:39   \n",
      "std                              NaN                            NaN   \n",
      "\n",
      "          longitude      latitude      accuracy      altitude       bearing  \\\n",
      "count  26710.000000  26710.000000  2.671000e+04  26710.000000  26710.000000   \n",
      "mean      36.503743     -1.031422  1.006282e+03    332.259644     15.072195   \n",
      "min      -85.232791    -24.645763 -2.147463e+06   -161.700000     -1.000000   \n",
      "25%       36.163351     -1.299535  2.050250e+01      0.000000      0.000000   \n",
      "50%       36.825058     -1.232870  1.100000e+02      0.000000      0.000000   \n",
      "75%       36.950463     -0.402338  2.200000e+03      0.000000      0.000000   \n",
      "max      117.058355     56.242041  6.451553e+05   3012.900000    359.440000   \n",
      "std        4.172315      1.850920  1.905380e+04    646.512069     57.378467   \n",
      "\n",
      "            user_id  \n",
      "count  26710.000000  \n",
      "mean     194.645938  \n",
      "min        1.000000  \n",
      "25%      103.000000  \n",
      "50%      191.000000  \n",
      "75%      278.000000  \n",
      "max      400.000000  \n",
      "std      108.631662  \n",
      "gps_fix_at           0\n",
      "server_upload_at     0\n",
      "longitude            0\n",
      "latitude             0\n",
      "accuracy             0\n",
      "altitude             0\n",
      "bearing              0\n",
      "location_provider    0\n",
      "user_id              0\n",
      "dtype: int64\n"
     ]
    }
   ],
   "source": [
    "query=\"\"\"select * from gps_fixes\"\"\"\n",
    "gps_fixes = pd.read_sql_query(query, connection_string)\n",
    "print(gps_fixes.head())\n",
    "print(gps_fixes.describe())\n",
    "print(gps_fixes.isnull().sum())"
   ]
  },
  {
   "cell_type": "code",
   "execution_count": 16,
   "id": "76b424af-169e-498f-8dac-d48872eca2cf",
   "metadata": {},
   "outputs": [
    {
     "name": "stdout",
     "output_type": "stream",
     "text": [
      "   user_id  age  cash_incoming_30days\n",
      "0        1   42               8988.12\n",
      "1        2   36               9968.12\n",
      "2        3   27                 59.04\n",
      "3        4   38               2129.03\n",
      "4        5   33               2102.53\n",
      "          user_id         age  cash_incoming_30days\n",
      "count  400.000000  400.000000            400.000000\n",
      "mean   200.500000   36.487500           7896.301075\n",
      "std    115.614301   13.243236           7037.481340\n",
      "min      1.000000   18.000000             11.900000\n",
      "25%    100.750000   27.000000           2602.472500\n",
      "50%    200.500000   34.000000           6004.240000\n",
      "75%    300.250000   44.000000          10989.405000\n",
      "max    400.000000  105.000000          41657.810000\n",
      "user_id                 0\n",
      "age                     0\n",
      "cash_incoming_30days    0\n",
      "dtype: int64\n"
     ]
    }
   ],
   "source": [
    "query=\"\"\"select * from user_attributes\"\"\"\n",
    "user_attributes = pd.read_sql_query(query, connection_string)\n",
    "print(user_attributes.head())\n",
    "print(user_attributes.describe())\n",
    "print(user_attributes.isnull().sum())"
   ]
  },
  {
   "cell_type": "code",
   "execution_count": 17,
   "id": "c21d8391-fd16-45f5-8dd2-3f5d9785b0b1",
   "metadata": {},
   "outputs": [
    {
     "data": {
      "text/plain": [
       "<Axes: title={'center': 'Loan Outcome Distribution'}, xlabel='loan_outcome', ylabel='Percentage'>"
      ]
     },
     "execution_count": 17,
     "metadata": {},
     "output_type": "execute_result"
    },
    {
     "data": {
      "image/png": "[encoded data removed]",
      "text/plain": [
       "<Figure size 640x480 with 1 Axes>"
      ]
     },
     "metadata": {},
     "output_type": "display_data"
    }
   ],
   "source": [
    "loan_distribution = loan_outcomes['loan_outcome'].value_counts(normalize=True)\n",
    "loan_distribution.plot(kind='bar', title='Loan Outcome Distribution', ylabel='Percentage')"
   ]
  },
  {
   "cell_type": "code",
   "execution_count": 18,
   "id": "52ac5d28-61a3-4d65-a2fe-702198f23e10",
   "metadata": {},
   "outputs": [
    {
     "data": {
      "image/png": "[encoded data removed]",
      "text/plain": [
       "<Figure size 800x600 with 1 Axes>"
      ]
     },
     "metadata": {},
     "output_type": "display_data"
    }
   ],
   "source": [
    "plt.figure(figsize=(8, 6))\n",
    "user_attributes['age'].hist(bins=10, color='skyblue', edgecolor='black')\n",
    "plt.title('Age Distribution')\n",
    "plt.xlabel('Age')\n",
    "plt.ylabel('Frequency')\n",
    "plt.tight_layout()\n",
    "plt.show()\n"
   ]
  },
  {
   "cell_type": "code",
   "execution_count": 19,
   "id": "2dfb33a2-ce2e-47c1-9ddd-0f61940a97e6",
   "metadata": {},
   "outputs": [
    {
     "data": {
      "image/png": "[encoded data removed]",
      "text/plain": [
       "<Figure size 800x600 with 1 Axes>"
      ]
     },
     "metadata": {},
     "output_type": "display_data"
    }
   ],
   "source": [
    "plt.figure(figsize=(8, 6))\n",
    "user_attributes['cash_incoming_30days'].plot(kind='box', vert=False, color='orange')\n",
    "plt.title('Cash Inflow Distribution')\n",
    "plt.xlabel('Cash Incoming (30 Days)')\n",
    "plt.tight_layout()\n",
    "plt.show()\n"
   ]
  },
  {
   "cell_type": "code",
   "execution_count": 20,
   "id": "e7aca72a-6439-4cf7-9418-13baea808a1b",
   "metadata": {},
   "outputs": [
    {
     "data": {
      "image/png": "[encoded data removed]",
      "text/plain": [
       "<Figure size 800x600 with 1 Axes>"
      ]
     },
     "metadata": {},
     "output_type": "display_data"
    }
   ],
   "source": [
    "# Group GPS fixes by user_id and count the number of GPS fixes per user\n",
    "gps_activity = gps_fixes.groupby('user_id').size()\n",
    "\n",
    "# Create histogram of the GPS activity\n",
    "plt.figure(figsize=(8, 6))\n",
    "gps_activity.hist(bins=20, color='lightgreen', edgecolor='black')\n",
    "plt.title('GPS Fixes per User')\n",
    "plt.xlabel('Number of GPS Fixes')\n",
    "plt.ylabel('Frequency')\n",
    "plt.tight_layout()\n",
    "plt.show()\n"
   ]
  },
  {
   "cell_type": "code",
   "execution_count": 21,
   "id": "8445e5ca-286f-4f65-aae8-5adf4ff4f493",
   "metadata": {},
   "outputs": [],
   "source": [
    "loan_outcomes['loan_outcome'] = loan_outcomes['loan_outcome'].map({'repaid': 1, 'defaulted': 0})\n"
   ]
  },
  {
   "cell_type": "code",
   "execution_count": 22,
   "id": "bd5ee1f0-8110-40f0-829e-84b01fcc29d6",
   "metadata": {},
   "outputs": [],
   "source": [
    "# Log-transform the cash inflow to reduce skewness\n",
    "user_attributes['cash_inflow_log'] = np.log1p(user_attributes['cash_incoming_30days'])"
   ]
  },
  {
   "cell_type": "code",
   "execution_count": 51,
   "id": "b0705b55-e396-40f6-b08d-03096f7541f4",
   "metadata": {},
   "outputs": [],
   "source": [
    "# # Create age groups (bins) to capture non-linear relationships with loan outcome\n",
    "# bins = [0, 25, 40, 60, 100]\n",
    "# labels = ['<25', '25-40', '40-60', '60+']\n",
    "# user_attributes['age_group'] = pd.cut(user_attributes['age'], bins=bins, labels=labels)"
   ]
  },
  {
   "cell_type": "code",
   "execution_count": 23,
   "id": "e5d9d222-37a8-44b8-8ef9-9d3fe4100eb5",
   "metadata": {},
   "outputs": [],
   "source": [
    "# Feature: Age\n",
    "user_attributes['age'] = user_attributes['age']\n",
    "\n",
    "# Feature: Cash Inflow (log-transformed)\n",
    "user_attributes['cash_inflow_log'] = user_attributes['cash_inflow_log']"
   ]
  },
  {
   "cell_type": "code",
   "execution_count": 24,
   "id": "b838ba89-9455-4c78-acf4-659da2eb7e22",
   "metadata": {},
   "outputs": [],
   "source": [
    "# Aggregate GPS fixes by user\n",
    "gps_features = gps_fixes.groupby('user_id').agg({\n",
    "    'accuracy': 'mean',  # Mean accuracy\n",
    "    'altitude': 'mean',  # Mean altitude\n",
    "    'bearing': 'std',    # Standard deviation of bearing (movement variability)\n",
    "    'latitude': 'mean',  # Mean latitude (geographical information)\n",
    "    'longitude': 'mean', # Mean longitude\n",
    "    'gps_fix_at': 'count'  # Number of GPS fixes per user\n",
    "}).reset_index()\n",
    "\n",
    "# Rename the aggregated columns for clarity\n",
    "gps_features.rename(columns={\n",
    "    'accuracy': 'avg_accuracy',\n",
    "    'altitude': 'avg_altitude',\n",
    "    'bearing': 'bearing_std',\n",
    "    'latitude': 'avg_latitude',\n",
    "    'longitude': 'avg_longitude',\n",
    "    'gps_fix_at': 'gps_activity_count'\n",
    "}, inplace=True)\n"
   ]
  },
  {
   "cell_type": "code",
   "execution_count": 25,
   "id": "b5d73bd2-5d41-4231-9820-0bfe7a6d95ae",
   "metadata": {},
   "outputs": [
    {
     "data": {
      "text/html": [
       "<div>\n",
       "<style scoped>\n",
       "    .dataframe tbody tr th:only-of-type {\n",
       "        vertical-align: middle;\n",
       "    }\n",
       "\n",
       "    .dataframe tbody tr th {\n",
       "        vertical-align: top;\n",
       "    }\n",
       "\n",
       "    .dataframe thead th {\n",
       "        text-align: right;\n",
       "    }\n",
       "</style>\n",
       "<table border=\"1\" class=\"dataframe\">\n",
       "  <thead>\n",
       "    <tr style=\"text-align: right;\">\n",
       "      <th></th>\n",
       "      <th>user_id</th>\n",
       "      <th>application_at</th>\n",
       "      <th>loan_outcome</th>\n",
       "      <th>age</th>\n",
       "      <th>cash_incoming_30days</th>\n",
       "      <th>cash_inflow_log</th>\n",
       "      <th>avg_accuracy</th>\n",
       "      <th>avg_altitude</th>\n",
       "      <th>bearing_std</th>\n",
       "      <th>avg_latitude</th>\n",
       "      <th>avg_longitude</th>\n",
       "      <th>gps_activity_count</th>\n",
       "    </tr>\n",
       "  </thead>\n",
       "  <tbody>\n",
       "    <tr>\n",
       "      <th>0</th>\n",
       "      <td>1</td>\n",
       "      <td>2017-08-14 09:08:50.000000</td>\n",
       "      <td>0</td>\n",
       "      <td>42</td>\n",
       "      <td>8988.12</td>\n",
       "      <td>9.103770</td>\n",
       "      <td>1105.084571</td>\n",
       "      <td>75.690000</td>\n",
       "      <td>41.335283</td>\n",
       "      <td>-1.270427</td>\n",
       "      <td>36.782813</td>\n",
       "      <td>70.0</td>\n",
       "    </tr>\n",
       "    <tr>\n",
       "      <th>1</th>\n",
       "      <td>2</td>\n",
       "      <td>2016-05-17 10:10:12.447976</td>\n",
       "      <td>1</td>\n",
       "      <td>36</td>\n",
       "      <td>9968.12</td>\n",
       "      <td>9.207248</td>\n",
       "      <td>48.596000</td>\n",
       "      <td>1030.603000</td>\n",
       "      <td>58.250574</td>\n",
       "      <td>-1.488055</td>\n",
       "      <td>37.118432</td>\n",
       "      <td>10.0</td>\n",
       "    </tr>\n",
       "    <tr>\n",
       "      <th>2</th>\n",
       "      <td>3</td>\n",
       "      <td>2016-10-20 10:07:20.459081</td>\n",
       "      <td>0</td>\n",
       "      <td>27</td>\n",
       "      <td>59.04</td>\n",
       "      <td>4.095011</td>\n",
       "      <td>6.500000</td>\n",
       "      <td>2190.900000</td>\n",
       "      <td>NaN</td>\n",
       "      <td>-0.889673</td>\n",
       "      <td>35.707550</td>\n",
       "      <td>1.0</td>\n",
       "    </tr>\n",
       "    <tr>\n",
       "      <th>3</th>\n",
       "      <td>4</td>\n",
       "      <td>2017-01-13 13:03:34.000000</td>\n",
       "      <td>0</td>\n",
       "      <td>38</td>\n",
       "      <td>2129.03</td>\n",
       "      <td>7.663891</td>\n",
       "      <td>2172.200000</td>\n",
       "      <td>0.000000</td>\n",
       "      <td>0.000000</td>\n",
       "      <td>-0.306798</td>\n",
       "      <td>36.082255</td>\n",
       "      <td>2.0</td>\n",
       "    </tr>\n",
       "    <tr>\n",
       "      <th>4</th>\n",
       "      <td>5</td>\n",
       "      <td>2016-11-03 15:41:39.124610</td>\n",
       "      <td>1</td>\n",
       "      <td>33</td>\n",
       "      <td>2102.53</td>\n",
       "      <td>7.651372</td>\n",
       "      <td>43.461111</td>\n",
       "      <td>542.622222</td>\n",
       "      <td>101.186957</td>\n",
       "      <td>17.800041</td>\n",
       "      <td>-12.370879</td>\n",
       "      <td>9.0</td>\n",
       "    </tr>\n",
       "  </tbody>\n",
       "</table>\n",
       "</div>"
      ],
      "text/plain": [
       "   user_id             application_at  loan_outcome  age  \\\n",
       "0        1 2017-08-14 09:08:50.000000             0   42   \n",
       "1        2 2016-05-17 10:10:12.447976             1   36   \n",
       "2        3 2016-10-20 10:07:20.459081             0   27   \n",
       "3        4 2017-01-13 13:03:34.000000             0   38   \n",
       "4        5 2016-11-03 15:41:39.124610             1   33   \n",
       "\n",
       "   cash_incoming_30days  cash_inflow_log  avg_accuracy  avg_altitude  \\\n",
       "0               8988.12         9.103770   1105.084571     75.690000   \n",
       "1               9968.12         9.207248     48.596000   1030.603000   \n",
       "2                 59.04         4.095011      6.500000   2190.900000   \n",
       "3               2129.03         7.663891   2172.200000      0.000000   \n",
       "4               2102.53         7.651372     43.461111    542.622222   \n",
       "\n",
       "   bearing_std  avg_latitude  avg_longitude  gps_activity_count  \n",
       "0    41.335283     -1.270427      36.782813                70.0  \n",
       "1    58.250574     -1.488055      37.118432                10.0  \n",
       "2          NaN     -0.889673      35.707550                 1.0  \n",
       "3     0.000000     -0.306798      36.082255                 2.0  \n",
       "4   101.186957     17.800041     -12.370879                 9.0  "
      ]
     },
     "execution_count": 25,
     "metadata": {},
     "output_type": "execute_result"
    }
   ],
   "source": [
    "# Merge loan outcomes with user attributes\n",
    "merged_data = pd.merge(loan_outcomes, user_attributes, on='user_id', how='left')\n",
    "\n",
    "# Merge the above data with GPS features\n",
    "merged_data = pd.merge(merged_data, gps_features, on='user_id', how='left')\n",
    "\n",
    "# Display the first few rows to verify the data\n",
    "merged_data.head()\n"
   ]
  },
  {
   "cell_type": "code",
   "execution_count": 30,
   "id": "66ef5136-9182-40ef-82f9-a4a4affe4423",
   "metadata": {},
   "outputs": [
    {
     "data": {
      "text/html": [
       "<div>\n",
       "<style scoped>\n",
       "    .dataframe tbody tr th:only-of-type {\n",
       "        vertical-align: middle;\n",
       "    }\n",
       "\n",
       "    .dataframe tbody tr th {\n",
       "        vertical-align: top;\n",
       "    }\n",
       "\n",
       "    .dataframe thead th {\n",
       "        text-align: right;\n",
       "    }\n",
       "</style>\n",
       "<table border=\"1\" class=\"dataframe\">\n",
       "  <thead>\n",
       "    <tr style=\"text-align: right;\">\n",
       "      <th></th>\n",
       "      <th>age</th>\n",
       "      <th>cash_incoming_30days</th>\n",
       "      <th>cash_inflow_log</th>\n",
       "      <th>avg_accuracy</th>\n",
       "      <th>avg_altitude</th>\n",
       "      <th>bearing_std</th>\n",
       "      <th>avg_latitude</th>\n",
       "      <th>avg_longitude</th>\n",
       "    </tr>\n",
       "  </thead>\n",
       "  <tbody>\n",
       "    <tr>\n",
       "      <th>0</th>\n",
       "      <td>42</td>\n",
       "      <td>8988.12</td>\n",
       "      <td>9.103770</td>\n",
       "      <td>1105.084571</td>\n",
       "      <td>75.690000</td>\n",
       "      <td>41.335283</td>\n",
       "      <td>-1.270427</td>\n",
       "      <td>36.782813</td>\n",
       "    </tr>\n",
       "    <tr>\n",
       "      <th>1</th>\n",
       "      <td>36</td>\n",
       "      <td>9968.12</td>\n",
       "      <td>9.207248</td>\n",
       "      <td>48.596000</td>\n",
       "      <td>1030.603000</td>\n",
       "      <td>58.250574</td>\n",
       "      <td>-1.488055</td>\n",
       "      <td>37.118432</td>\n",
       "    </tr>\n",
       "    <tr>\n",
       "      <th>2</th>\n",
       "      <td>27</td>\n",
       "      <td>59.04</td>\n",
       "      <td>4.095011</td>\n",
       "      <td>6.500000</td>\n",
       "      <td>2190.900000</td>\n",
       "      <td>0.000000</td>\n",
       "      <td>-0.889673</td>\n",
       "      <td>35.707550</td>\n",
       "    </tr>\n",
       "    <tr>\n",
       "      <th>3</th>\n",
       "      <td>38</td>\n",
       "      <td>2129.03</td>\n",
       "      <td>7.663891</td>\n",
       "      <td>2172.200000</td>\n",
       "      <td>0.000000</td>\n",
       "      <td>0.000000</td>\n",
       "      <td>-0.306798</td>\n",
       "      <td>36.082255</td>\n",
       "    </tr>\n",
       "    <tr>\n",
       "      <th>4</th>\n",
       "      <td>33</td>\n",
       "      <td>2102.53</td>\n",
       "      <td>7.651372</td>\n",
       "      <td>43.461111</td>\n",
       "      <td>542.622222</td>\n",
       "      <td>101.186957</td>\n",
       "      <td>17.800041</td>\n",
       "      <td>-12.370879</td>\n",
       "    </tr>\n",
       "  </tbody>\n",
       "</table>\n",
       "</div>"
      ],
      "text/plain": [
       "   age  cash_incoming_30days  cash_inflow_log  avg_accuracy  avg_altitude  \\\n",
       "0   42               8988.12         9.103770   1105.084571     75.690000   \n",
       "1   36               9968.12         9.207248     48.596000   1030.603000   \n",
       "2   27                 59.04         4.095011      6.500000   2190.900000   \n",
       "3   38               2129.03         7.663891   2172.200000      0.000000   \n",
       "4   33               2102.53         7.651372     43.461111    542.622222   \n",
       "\n",
       "   bearing_std  avg_latitude  avg_longitude  \n",
       "0    41.335283     -1.270427      36.782813  \n",
       "1    58.250574     -1.488055      37.118432  \n",
       "2     0.000000     -0.889673      35.707550  \n",
       "3     0.000000     -0.306798      36.082255  \n",
       "4   101.186957     17.800041     -12.370879  "
      ]
     },
     "execution_count": 30,
     "metadata": {},
     "output_type": "execute_result"
    }
   ],
   "source": [
    "from sklearn.model_selection import train_test_split\n",
    "\n",
    "# Features (X) and target (y)\n",
    "X = merged_data.drop(columns=['loan_outcome', 'user_id', 'application_at', 'gps_activity_count'])  # Dropping non-feature columns\n",
    "y = merged_data['loan_outcome']  # Target variable\n",
    "merged_data.fillna(0, inplace=True)\n",
    "# Split the data into training and testing sets (80% train, 20% test)\n",
    "X_train, X_test, y_train, y_test = train_test_split(X, y, test_size=0.2, random_state=42)\n",
    "X.head()"
   ]
  },
  {
   "cell_type": "code",
   "execution_count": 32,
   "id": "afd4ddbb-5dd8-4597-8bea-80788cd988bf",
   "metadata": {},
   "outputs": [],
   "source": [
    "from sklearn.linear_model import LogisticRegression\n",
    "from sklearn.ensemble import RandomForestClassifier\n",
    "from sklearn.metrics import accuracy_score, precision_score, recall_score, f1_score, roc_auc_score\n",
    "from sklearn.metrics import confusion_matrix, roc_curve\n",
    "\n",
    "# Initialize the Logistic Regression model (You can try other models like RandomForestClassifier)\n",
    "model = RandomForestClassifier(max_depth=10, min_samples_split=10, n_estimators=100)\n",
    "\n",
    "# Train the model\n",
    "model.fit(X_train, y_train)\n",
    "\n",
    "# Predict the loan outcomes on the test set\n",
    "y_pred = model.predict(X_test)\n"
   ]
  },
  {
   "cell_type": "code",
   "execution_count": 33,
   "id": "de0dc8b0-2b20-41a0-9e22-62e73a692bc3",
   "metadata": {
    "scrolled": true
   },
   "outputs": [
    {
     "name": "stdout",
     "output_type": "stream",
     "text": [
      "Accuracy: 0.6375\n",
      "Precision: 0.6750\n",
      "Recall: 0.6279\n",
      "F1-Score: 0.6506\n",
      "ROC-AUC: 0.6851\n"
     ]
    }
   ],
   "source": [
    "# Calculate evaluation metrics\n",
    "accuracy = accuracy_score(y_test, y_pred)\n",
    "precision = precision_score(y_test, y_pred)\n",
    "recall = recall_score(y_test, y_pred)\n",
    "f1 = f1_score(y_test, y_pred)\n",
    "roc_auc = roc_auc_score(y_test, model.predict_proba(X_test)[:, 1])\n",
    "\n",
    "# Print the evaluation metrics\n",
    "print(f\"Accuracy: {accuracy:.4f}\")\n",
    "print(f\"Precision: {precision:.4f}\")\n",
    "print(f\"Recall: {recall:.4f}\")\n",
    "print(f\"F1-Score: {f1:.4f}\")\n",
    "print(f\"ROC-AUC: {roc_auc:.4f}\")\n"
   ]
  },
  {
   "cell_type": "code",
   "execution_count": 34,
   "id": "0a5e5f3d-86d4-48b4-9c6b-e902d2d27b7f",
   "metadata": {},
   "outputs": [
    {
     "data": {
      "image/png": "[encoded data removed]",
      "text/plain": [
       "<Figure size 600x600 with 2 Axes>"
      ]
     },
     "metadata": {},
     "output_type": "display_data"
    }
   ],
   "source": [
    "# Confusion Matrix\n",
    "cm = confusion_matrix(y_test, y_pred)\n",
    "\n",
    "# Plot confusion matrix\n",
    "plt.figure(figsize=(6, 6))\n",
    "sns.heatmap(cm, annot=True, fmt='d', cmap='Blues', xticklabels=['Defaulted', 'Repaid'], yticklabels=['Defaulted', 'Repaid'])\n",
    "plt.title('Confusion Matrix')\n",
    "plt.xlabel('Predicted')\n",
    "plt.ylabel('Actual')\n",
    "plt.tight_layout()\n",
    "plt.show()\n"
   ]
  },
  {
   "cell_type": "code",
   "execution_count": 35,
   "id": "1c1ce070-c55a-4d91-96ec-00c1eb201996",
   "metadata": {},
   "outputs": [
    {
     "data": {
      "image/png": "[encoded data removed]",
      "text/plain": [
       "<Figure size 800x600 with 1 Axes>"
      ]
     },
     "metadata": {},
     "output_type": "display_data"
    }
   ],
   "source": [
    "# Compute ROC curve\n",
    "fpr, tpr, thresholds = roc_curve(y_test, model.predict_proba(X_test)[:, 1])\n",
    "\n",
    "# Plot ROC curve\n",
    "plt.figure(figsize=(8, 6))\n",
    "plt.plot(fpr, tpr, color='blue', lw=2, label=f'ROC Curve (AUC = {roc_auc:.4f})')\n",
    "plt.plot([0, 1], [0, 1], color='gray', linestyle='--')\n",
    "plt.title('Receiver Operating Characteristic (ROC) Curve')\n",
    "plt.xlabel('False Positive Rate')\n",
    "plt.ylabel('True Positive Rate')\n",
    "plt.legend(loc='lower right')\n",
    "plt.tight_layout()\n",
    "plt.show()\n"
   ]
  },
  {
   "cell_type": "code",
   "execution_count": 36,
   "id": "501961ec-7c65-42ce-b7ea-4b52f3511718",
   "metadata": {},
   "outputs": [
    {
     "data": {
      "text/plain": [
       "['loan_predictor_model.pkl']"
      ]
     },
     "execution_count": 36,
     "metadata": {},
     "output_type": "execute_result"
    }
   ],
   "source": [
    "import joblib\n",
    "joblib.dump(model, 'loan_predictor_model.pkl')"
   ]
  },
  {
   "cell_type": "code",
   "execution_count": 39,
   "id": "eff504a0-9660-488a-a711-c38b61674516",
   "metadata": {},
   "outputs": [
    {
     "name": "stdout",
     "output_type": "stream",
     "text": [
      " * Serving Flask app '__main__'\n",
      " * Debug mode: on\n"
     ]
    },
    {
     "name": "stderr",
     "output_type": "stream",
     "text": [
      "WARNING: This is a development server. Do not use it in a production deployment. Use a production WSGI server instead.\n",
      " * Running on http://127.0.0.1:5000\n",
      "Press CTRL+C to quit\n",
      " * Restarting with stat\n"
     ]
    },
    {
     "ename": "SystemExit",
     "evalue": "1",
     "output_type": "error",
     "traceback": [
      "An exception has occurred, use %tb to see the full traceback.\n",
      "\u001b[1;31mSystemExit\u001b[0m\u001b[1;31m:\u001b[0m 1\n"
     ]
    },
    {
     "name": "stderr",
     "output_type": "stream",
     "text": [
      "C:\\Users\\vengi\\AppData\\Local\\Programs\\Python\\Python312\\Lib\\site-packages\\IPython\\core\\interactiveshell.py:3561: UserWarning: To exit: use 'exit', 'quit', or Ctrl-D.\n",
      "  warn(\"To exit: use 'exit', 'quit', or Ctrl-D.\", stacklevel=1)\n"
     ]
    }
   ],
   "source": [
    "from flask import Flask, request, jsonify\n",
    "import joblib\n",
    "import pandas as pd\n",
    "\n",
    "# Initialize the Flask application\n",
    "app = Flask(__name__)\n",
    "\n",
    "# Load the trained model (this should be done once at the start)\n",
    "model = joblib.load('loan_predictor_model.pkl')\n",
    "\n",
    "# Endpoint to get the prediction for a user\n",
    "@app.route('/predict', methods=['POST'])\n",
    "def predict():\n",
    "    try:\n",
    "        # Get the user data from the request\n",
    "        user_data = request.get_json()\n",
    "\n",
    "        # Ensure the user data is in the correct format (e.g., a dictionary)\n",
    "        user_df = pd.DataFrame([user_data])  # Convert the input JSON into a DataFrame\n",
    "\n",
    "        # Apply any necessary preprocessing (such as feature engineering, encoding, etc.)\n",
    "        # Example: if the model uses features like age ranges or logarithmic transformations, \n",
    "        # make sure the necessary preprocessing is applied here\n",
    "\n",
    "        # Make the prediction using the model\n",
    "        prediction = model.predict(user_df)\n",
    "\n",
    "        # Return the prediction result\n",
    "        return jsonify({'loan_outcome': prediction[0]})\n",
    "\n",
    "    except Exception as e:\n",
    "        return jsonify({'error': str(e)}), 400\n",
    "\n",
    "if __name__ == '__main__':\n",
    "    app.run(debug=True)\n"
   ]
  },
  {
   "cell_type": "code",
   "execution_count": 6,
   "id": "4c8872a5-3879-41f3-92a0-4d5b41644506",
   "metadata": {},
   "outputs": [
    {
     "name": "stderr",
     "output_type": "stream",
     "text": [
      "  % Total    % Received % Xferd  Average Speed   Time    Time     Time  Current\n",
      "                                 Dload  Upload   Total   Spent    Left  Speed\n",
      "\n",
      "  0     0    0     0    0     0      0      0 --:--:-- --:--:-- --:--:--     0\n",
      "  0     0    0     0    0     0      0      0 --:--:--  0:00:01 --:--:--     0\n",
      "  0     0    0     0    0     0      0      0 --:--:--  0:00:02 --:--:--     0\n",
      "  0     0    0     0    0     0      0      0 --:--:--  0:00:02 --:--:--     0\n",
      "curl: (7) Failed to connect to 127.0.0.1 port 5000 after 2033 ms: Could not connect to server\n",
      "curl: (3) URL rejected: Bad hostname\n",
      "curl: (3) URL rejected: Port number was not a decimal number between 0 and 65535\n",
      "curl: (3) URL rejected: Bad hostname\n",
      "curl: (3) URL rejected: Port number was not a decimal number between 0 and 65535\n",
      "curl: (3) URL rejected: Bad hostname\n",
      "curl: (3) URL rejected: Port number was not a decimal number between 0 and 65535\n",
      "curl: (3) URL rejected: Bad hostname\n",
      "curl: (3) URL rejected: Port number was not a decimal number between 0 and 65535\n",
      "curl: (3) URL rejected: Bad hostname\n",
      "curl: (3) URL rejected: Port number was not a decimal number between 0 and 65535\n",
      "curl: (3) unmatched close brace/bracket in URL position 5:\n",
      "True}'\n",
      "    ^\n"
     ]
    }
   ],
   "source": [
    "!curl -X POST http://127.0.0.1:5000/predict -H \"Content-Type: application/json\" -d '{\"user_id\": 123, \"age\": 30, \"cash_incoming_30days\": 5000, \"location_provider\": \"GPS\", \"gps_activity\": 20, \"scrolled\": True}'\n"
   ]
  },
  {
   "cell_type": "code",
   "execution_count": 37,
   "id": "68c6b9d6-4dc4-4990-8a19-b6553d858ea8",
   "metadata": {},
   "outputs": [
    {
     "name": "stderr",
     "output_type": "stream",
     "text": [
      "Traceback (most recent call last):\n",
      "  File \"C:\\Users\\vengi\\Desktop\\InternAssignment\\app.ipynb\", line 769, in <module>\n",
      "    \"scrolled\": true\n",
      "                ^^^^\n",
      "NameError: name 'true' is not defined. Did you mean: 'True'?\n"
     ]
    }
   ],
   "source": [
    "!python app.ipynb\n"
   ]
  }
 ],
 "metadata": {
  "kernelspec": {
   "display_name": "Python 3 (ipykernel)",
   "language": "python",
   "name": "python3"
  },
  "language_info": {
   "codemirror_mode": {
    "name": "ipython",
    "version": 3
   },
   "file_extension": ".py",
   "mimetype": "text/x-python",
   "name": "python",
   "nbconvert_exporter": "python",
   "pygments_lexer": "ipython3",
   "version": "3.12.2"
  }
 },
 "nbformat": 4,
 "nbformat_minor": 5
}
